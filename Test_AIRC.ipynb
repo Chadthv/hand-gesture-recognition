{
  "cells": [
    {
      "cell_type": "code",
      "execution_count": null,
      "metadata": {
        "id": "XGB6P7kFssIe"
      },
      "outputs": [],
      "source": [
        "import csv\n",
        "\n",
        "import numpy as np\n",
        "import tensorflow as tf\n",
        "from sklearn.model_selection import train_test_split\n",
        "\n",
        "RANDOM_SEED = 42"
      ]
    },
    {
      "cell_type": "code",
      "execution_count": null,
      "metadata": {
        "id": "vgaR6HfzvGww"
      },
      "outputs": [],
      "source": [
        "dataset = '/content/keypoint2.csv'\n",
        "model_save_path = '/content/keypoint_classifier2.keras'\n",
        "tflite_save_path = '/content/keypoint_classifier2.tflite'"
      ]
    },
    {
      "cell_type": "code",
      "execution_count": null,
      "metadata": {
        "id": "2PvpE3-rvLYj"
      },
      "outputs": [],
      "source": [
        "NUM_CLASSES = 29"
      ]
    },
    {
      "cell_type": "code",
      "execution_count": null,
      "metadata": {
        "id": "vg6C6Gx-5u4F"
      },
      "outputs": [],
      "source": [
        "import pandas as pd\n",
        "\n",
        "try:\n",
        "    df = pd.read_csv(dataset, header=None)\n",
        "    # Drop rows with fewer than 43 columns (1 class column + 42 keypoint columns)\n",
        "    df = df[df.count(axis=1) >= 43]\n",
        "    X_dataset = df.iloc[:, 1:].values.astype('float32')\n",
        "except Exception as e:\n",
        "    print(f\"Error loading dataset: {e}\")\n",
        "    X_dataset = None # Set X_dataset to None if loading fails"
      ]
    },
    {
      "cell_type": "code",
      "execution_count": null,
      "metadata": {
        "id": "aCzX70MdzKka"
      },
      "outputs": [],
      "source": [
        "y_dataset = df.iloc[:, 0].values.astype('int32')"
      ]
    },
    {
      "cell_type": "code",
      "execution_count": null,
      "metadata": {
        "id": "WQpEGQ4hdQiA"
      },
      "outputs": [],
      "source": [
        "if X_dataset is not None and y_dataset is not None:\n",
        "    X_train, X_test, y_train, y_test = train_test_split(X_dataset, y_dataset, train_size=0.75, random_state=RANDOM_SEED)\n",
        "else:\n",
        "    print(\"Dataset loading failed. Cannot perform train/test split.\")"
      ]
    },
    {
      "cell_type": "code",
      "execution_count": null,
      "metadata": {
        "id": "5QjpQ1-LNXlo"
      },
      "outputs": [],
      "source": [
        "input_dim = 21 * 2\n",
        "\n",
        "model = tf.keras.models.Sequential([\n",
        "    tf.keras.layers.Input((input_dim,)),\n",
        "    tf.keras.layers.Dropout(0.2),\n",
        "    tf.keras.layers.Dense(128, activation='relu'),\n",
        "    tf.keras.layers.Dropout(0.3),\n",
        "    tf.keras.layers.Dense(64, activation='relu'),\n",
        "    tf.keras.layers.Dropout(0.3),\n",
        "    tf.keras.layers.Dense(32, activation='relu'),\n",
        "    tf.keras.layers.Dense(NUM_CLASSES, activation='softmax')\n",
        "])"
      ]
    },
    {
      "cell_type": "code",
      "execution_count": null,
      "metadata": {
        "id": "CjYVAJ0JsxGJ"
      },
      "outputs": [],
      "source": [
        "# model = tf.keras.models.Sequential([\n",
        "#     tf.keras.layers.Input((21 * 2, )),\n",
        "#     tf.keras.layers.Dropout(0.2),\n",
        "#     tf.keras.layers.Dense(20, activation='relu'),\n",
        "#     tf.keras.layers.Dropout(0.4),\n",
        "#     tf.keras.layers.Dense(10, activation='relu'),\n",
        "#     tf.keras.layers.Dense(NUM_CLASSES, activation='softmax')\n",
        "# ])"
      ]
    },
    {
      "cell_type": "code",
      "execution_count": null,
      "metadata": {
        "colab": {
          "base_uri": "https://localhost:8080/",
          "height": 353
        },
        "id": "16t7Q_HS_mdm",
        "outputId": "9dc77c4d-2fd2-4905-ae12-7df97b029a90"
      },
      "outputs": [
        {
          "data": {
            "text/html": [
              "<pre style=\"white-space:pre;overflow-x:auto;line-height:normal;font-family:Menlo,'DejaVu Sans Mono',consolas,'Courier New',monospace\"><span style=\"font-weight: bold\">Model: \"sequential_12\"</span>\n",
              "</pre>\n"
            ],
            "text/plain": [
              "\u001b[1mModel: \"sequential_12\"\u001b[0m\n"
            ]
          },
          "metadata": {},
          "output_type": "display_data"
        },
        {
          "data": {
            "text/html": [
              "<pre style=\"white-space:pre;overflow-x:auto;line-height:normal;font-family:Menlo,'DejaVu Sans Mono',consolas,'Courier New',monospace\">┏━━━━━━━━━━━━━━━━━━━━━━━━━━━━━━━━━┳━━━━━━━━━━━━━━━━━━━━━━━━┳━━━━━━━━━━━━━━━┓\n",
              "┃<span style=\"font-weight: bold\"> Layer (type)                    </span>┃<span style=\"font-weight: bold\"> Output Shape           </span>┃<span style=\"font-weight: bold\">       Param # </span>┃\n",
              "┡━━━━━━━━━━━━━━━━━━━━━━━━━━━━━━━━━╇━━━━━━━━━━━━━━━━━━━━━━━━╇━━━━━━━━━━━━━━━┩\n",
              "│ dropout_32 (<span style=\"color: #0087ff; text-decoration-color: #0087ff\">Dropout</span>)            │ (<span style=\"color: #00d7ff; text-decoration-color: #00d7ff\">None</span>, <span style=\"color: #00af00; text-decoration-color: #00af00\">42</span>)             │             <span style=\"color: #00af00; text-decoration-color: #00af00\">0</span> │\n",
              "├─────────────────────────────────┼────────────────────────┼───────────────┤\n",
              "│ dense_42 (<span style=\"color: #0087ff; text-decoration-color: #0087ff\">Dense</span>)                │ (<span style=\"color: #00d7ff; text-decoration-color: #00d7ff\">None</span>, <span style=\"color: #00af00; text-decoration-color: #00af00\">128</span>)            │         <span style=\"color: #00af00; text-decoration-color: #00af00\">5,504</span> │\n",
              "├─────────────────────────────────┼────────────────────────┼───────────────┤\n",
              "│ dropout_33 (<span style=\"color: #0087ff; text-decoration-color: #0087ff\">Dropout</span>)            │ (<span style=\"color: #00d7ff; text-decoration-color: #00d7ff\">None</span>, <span style=\"color: #00af00; text-decoration-color: #00af00\">128</span>)            │             <span style=\"color: #00af00; text-decoration-color: #00af00\">0</span> │\n",
              "├─────────────────────────────────┼────────────────────────┼───────────────┤\n",
              "│ dense_43 (<span style=\"color: #0087ff; text-decoration-color: #0087ff\">Dense</span>)                │ (<span style=\"color: #00d7ff; text-decoration-color: #00d7ff\">None</span>, <span style=\"color: #00af00; text-decoration-color: #00af00\">64</span>)             │         <span style=\"color: #00af00; text-decoration-color: #00af00\">8,256</span> │\n",
              "├─────────────────────────────────┼────────────────────────┼───────────────┤\n",
              "│ dropout_34 (<span style=\"color: #0087ff; text-decoration-color: #0087ff\">Dropout</span>)            │ (<span style=\"color: #00d7ff; text-decoration-color: #00d7ff\">None</span>, <span style=\"color: #00af00; text-decoration-color: #00af00\">64</span>)             │             <span style=\"color: #00af00; text-decoration-color: #00af00\">0</span> │\n",
              "├─────────────────────────────────┼────────────────────────┼───────────────┤\n",
              "│ dense_44 (<span style=\"color: #0087ff; text-decoration-color: #0087ff\">Dense</span>)                │ (<span style=\"color: #00d7ff; text-decoration-color: #00d7ff\">None</span>, <span style=\"color: #00af00; text-decoration-color: #00af00\">32</span>)             │         <span style=\"color: #00af00; text-decoration-color: #00af00\">2,080</span> │\n",
              "├─────────────────────────────────┼────────────────────────┼───────────────┤\n",
              "│ dense_45 (<span style=\"color: #0087ff; text-decoration-color: #0087ff\">Dense</span>)                │ (<span style=\"color: #00d7ff; text-decoration-color: #00d7ff\">None</span>, <span style=\"color: #00af00; text-decoration-color: #00af00\">29</span>)             │           <span style=\"color: #00af00; text-decoration-color: #00af00\">957</span> │\n",
              "└─────────────────────────────────┴────────────────────────┴───────────────┘\n",
              "</pre>\n"
            ],
            "text/plain": [
              "┏━━━━━━━━━━━━━━━━━━━━━━━━━━━━━━━━━┳━━━━━━━━━━━━━━━━━━━━━━━━┳━━━━━━━━━━━━━━━┓\n",
              "┃\u001b[1m \u001b[0m\u001b[1mLayer (type)                   \u001b[0m\u001b[1m \u001b[0m┃\u001b[1m \u001b[0m\u001b[1mOutput Shape          \u001b[0m\u001b[1m \u001b[0m┃\u001b[1m \u001b[0m\u001b[1m      Param #\u001b[0m\u001b[1m \u001b[0m┃\n",
              "┡━━━━━━━━━━━━━━━━━━━━━━━━━━━━━━━━━╇━━━━━━━━━━━━━━━━━━━━━━━━╇━━━━━━━━━━━━━━━┩\n",
              "│ dropout_32 (\u001b[38;5;33mDropout\u001b[0m)            │ (\u001b[38;5;45mNone\u001b[0m, \u001b[38;5;34m42\u001b[0m)             │             \u001b[38;5;34m0\u001b[0m │\n",
              "├─────────────────────────────────┼────────────────────────┼───────────────┤\n",
              "│ dense_42 (\u001b[38;5;33mDense\u001b[0m)                │ (\u001b[38;5;45mNone\u001b[0m, \u001b[38;5;34m128\u001b[0m)            │         \u001b[38;5;34m5,504\u001b[0m │\n",
              "├─────────────────────────────────┼────────────────────────┼───────────────┤\n",
              "│ dropout_33 (\u001b[38;5;33mDropout\u001b[0m)            │ (\u001b[38;5;45mNone\u001b[0m, \u001b[38;5;34m128\u001b[0m)            │             \u001b[38;5;34m0\u001b[0m │\n",
              "├─────────────────────────────────┼────────────────────────┼───────────────┤\n",
              "│ dense_43 (\u001b[38;5;33mDense\u001b[0m)                │ (\u001b[38;5;45mNone\u001b[0m, \u001b[38;5;34m64\u001b[0m)             │         \u001b[38;5;34m8,256\u001b[0m │\n",
              "├─────────────────────────────────┼────────────────────────┼───────────────┤\n",
              "│ dropout_34 (\u001b[38;5;33mDropout\u001b[0m)            │ (\u001b[38;5;45mNone\u001b[0m, \u001b[38;5;34m64\u001b[0m)             │             \u001b[38;5;34m0\u001b[0m │\n",
              "├─────────────────────────────────┼────────────────────────┼───────────────┤\n",
              "│ dense_44 (\u001b[38;5;33mDense\u001b[0m)                │ (\u001b[38;5;45mNone\u001b[0m, \u001b[38;5;34m32\u001b[0m)             │         \u001b[38;5;34m2,080\u001b[0m │\n",
              "├─────────────────────────────────┼────────────────────────┼───────────────┤\n",
              "│ dense_45 (\u001b[38;5;33mDense\u001b[0m)                │ (\u001b[38;5;45mNone\u001b[0m, \u001b[38;5;34m29\u001b[0m)             │           \u001b[38;5;34m957\u001b[0m │\n",
              "└─────────────────────────────────┴────────────────────────┴───────────────┘\n"
            ]
          },
          "metadata": {},
          "output_type": "display_data"
        },
        {
          "data": {
            "text/html": [
              "<pre style=\"white-space:pre;overflow-x:auto;line-height:normal;font-family:Menlo,'DejaVu Sans Mono',consolas,'Courier New',monospace\"><span style=\"font-weight: bold\"> Total params: </span><span style=\"color: #00af00; text-decoration-color: #00af00\">16,797</span> (65.61 KB)\n",
              "</pre>\n"
            ],
            "text/plain": [
              "\u001b[1m Total params: \u001b[0m\u001b[38;5;34m16,797\u001b[0m (65.61 KB)\n"
            ]
          },
          "metadata": {},
          "output_type": "display_data"
        },
        {
          "data": {
            "text/html": [
              "<pre style=\"white-space:pre;overflow-x:auto;line-height:normal;font-family:Menlo,'DejaVu Sans Mono',consolas,'Courier New',monospace\"><span style=\"font-weight: bold\"> Trainable params: </span><span style=\"color: #00af00; text-decoration-color: #00af00\">16,797</span> (65.61 KB)\n",
              "</pre>\n"
            ],
            "text/plain": [
              "\u001b[1m Trainable params: \u001b[0m\u001b[38;5;34m16,797\u001b[0m (65.61 KB)\n"
            ]
          },
          "metadata": {},
          "output_type": "display_data"
        },
        {
          "data": {
            "text/html": [
              "<pre style=\"white-space:pre;overflow-x:auto;line-height:normal;font-family:Menlo,'DejaVu Sans Mono',consolas,'Courier New',monospace\"><span style=\"font-weight: bold\"> Non-trainable params: </span><span style=\"color: #00af00; text-decoration-color: #00af00\">0</span> (0.00 B)\n",
              "</pre>\n"
            ],
            "text/plain": [
              "\u001b[1m Non-trainable params: \u001b[0m\u001b[38;5;34m0\u001b[0m (0.00 B)\n"
            ]
          },
          "metadata": {},
          "output_type": "display_data"
        }
      ],
      "source": [
        "model.summary()  # tf.keras.utils.plot_model(model, show_shapes=True)"
      ]
    },
    {
      "cell_type": "code",
      "execution_count": null,
      "metadata": {
        "id": "m33mPH1Rs4Bi"
      },
      "outputs": [],
      "source": [
        "# Model checkpoint callback\n",
        "cp_callback = tf.keras.callbacks.ModelCheckpoint(\n",
        "    model_save_path, verbose=1, save_weights_only=False)\n",
        "# Callback for early stopping\n",
        "es_callback = tf.keras.callbacks.EarlyStopping(patience=50, verbose=1)"
      ]
    },
    {
      "cell_type": "code",
      "execution_count": null,
      "metadata": {
        "id": "q2XmCUfHBrnz"
      },
      "outputs": [],
      "source": [
        "# Model compilation\n",
        "model.compile(\n",
        "    optimizer='adam',\n",
        "    loss='sparse_categorical_crossentropy',\n",
        "    metrics=['accuracy']\n",
        ")"
      ]
    },
    {
      "cell_type": "code",
      "execution_count": null,
      "metadata": {
        "colab": {
          "base_uri": "https://localhost:8080/"
        },
        "id": "xrNv94fjCFkt",
        "outputId": "3afdf8c0-739d-4d82-ee13-ec6d47e8d0e4"
      },
      "outputs": [
        {
          "name": "stdout",
          "output_type": "stream",
          "text": [
            "Epoch 1/1000\n",
            "\u001b[1m841/841\u001b[0m \u001b[32m━━━━━━━━━━━━━━━━━━━━\u001b[0m\u001b[37m\u001b[0m \u001b[1m0s\u001b[0m 4ms/step - accuracy: 0.3484 - loss: 2.1008\n",
            "Epoch 1: saving model to /content/keypoint_classifier2.keras\n",
            "\u001b[1m841/841\u001b[0m \u001b[32m━━━━━━━━━━━━━━━━━━━━\u001b[0m\u001b[37m\u001b[0m \u001b[1m9s\u001b[0m 6ms/step - accuracy: 0.3486 - loss: 2.1002 - val_accuracy: 0.8392 - val_loss: 0.6174\n",
            "Epoch 2/1000\n",
            "\u001b[1m833/841\u001b[0m \u001b[32m━━━━━━━━━━━━━━━━━━━\u001b[0m\u001b[37m━\u001b[0m \u001b[1m0s\u001b[0m 2ms/step - accuracy: 0.6570 - loss: 1.0188\n",
            "Epoch 2: saving model to /content/keypoint_classifier2.keras\n",
            "\u001b[1m841/841\u001b[0m \u001b[32m━━━━━━━━━━━━━━━━━━━━\u001b[0m\u001b[37m\u001b[0m \u001b[1m6s\u001b[0m 4ms/step - accuracy: 0.6572 - loss: 1.0182 - val_accuracy: 0.8997 - val_loss: 0.4704\n",
            "Epoch 3/1000\n",
            "\u001b[1m834/841\u001b[0m \u001b[32m━━━━━━━━━━━━━━━━━━━\u001b[0m\u001b[37m━\u001b[0m \u001b[1m0s\u001b[0m 2ms/step - accuracy: 0.7213 - loss: 0.8346\n",
            "Epoch 3: saving model to /content/keypoint_classifier2.keras\n",
            "\u001b[1m841/841\u001b[0m \u001b[32m━━━━━━━━━━━━━━━━━━━━\u001b[0m\u001b[37m\u001b[0m \u001b[1m4s\u001b[0m 3ms/step - accuracy: 0.7214 - loss: 0.8343 - val_accuracy: 0.9158 - val_loss: 0.3818\n",
            "Epoch 4/1000\n",
            "\u001b[1m837/841\u001b[0m \u001b[32m━━━━━━━━━━━━━━━━━━━\u001b[0m\u001b[37m━\u001b[0m \u001b[1m0s\u001b[0m 2ms/step - accuracy: 0.7551 - loss: 0.7359\n",
            "Epoch 4: saving model to /content/keypoint_classifier2.keras\n",
            "\u001b[1m841/841\u001b[0m \u001b[32m━━━━━━━━━━━━━━━━━━━━\u001b[0m\u001b[37m\u001b[0m \u001b[1m3s\u001b[0m 3ms/step - accuracy: 0.7551 - loss: 0.7357 - val_accuracy: 0.9302 - val_loss: 0.3536\n",
            "Epoch 5/1000\n",
            "\u001b[1m837/841\u001b[0m \u001b[32m━━━━━━━━━━━━━━━━━━━\u001b[0m\u001b[37m━\u001b[0m \u001b[1m0s\u001b[0m 2ms/step - accuracy: 0.7859 - loss: 0.6605\n",
            "Epoch 5: saving model to /content/keypoint_classifier2.keras\n",
            "\u001b[1m841/841\u001b[0m \u001b[32m━━━━━━━━━━━━━━━━━━━━\u001b[0m\u001b[37m\u001b[0m \u001b[1m3s\u001b[0m 3ms/step - accuracy: 0.7859 - loss: 0.6604 - val_accuracy: 0.9308 - val_loss: 0.3382\n",
            "Epoch 6/1000\n",
            "\u001b[1m833/841\u001b[0m \u001b[32m━━━━━━━━━━━━━━━━━━━\u001b[0m\u001b[37m━\u001b[0m \u001b[1m0s\u001b[0m 2ms/step - accuracy: 0.8069 - loss: 0.6006\n",
            "Epoch 6: saving model to /content/keypoint_classifier2.keras\n",
            "\u001b[1m841/841\u001b[0m \u001b[32m━━━━━━━━━━━━━━━━━━━━\u001b[0m\u001b[37m\u001b[0m \u001b[1m5s\u001b[0m 3ms/step - accuracy: 0.8069 - loss: 0.6004 - val_accuracy: 0.9172 - val_loss: 0.3345\n",
            "Epoch 7/1000\n",
            "\u001b[1m824/841\u001b[0m \u001b[32m━━━━━━━━━━━━━━━━━━━\u001b[0m\u001b[37m━\u001b[0m \u001b[1m0s\u001b[0m 2ms/step - accuracy: 0.8236 - loss: 0.5520\n",
            "Epoch 7: saving model to /content/keypoint_classifier2.keras\n",
            "\u001b[1m841/841\u001b[0m \u001b[32m━━━━━━━━━━━━━━━━━━━━\u001b[0m\u001b[37m\u001b[0m \u001b[1m3s\u001b[0m 3ms/step - accuracy: 0.8237 - loss: 0.5518 - val_accuracy: 0.9166 - val_loss: 0.3216\n",
            "Epoch 8/1000\n",
            "\u001b[1m826/841\u001b[0m \u001b[32m━━━━━━━━━━━━━━━━━━━\u001b[0m\u001b[37m━\u001b[0m \u001b[1m0s\u001b[0m 2ms/step - accuracy: 0.8379 - loss: 0.5128\n",
            "Epoch 8: saving model to /content/keypoint_classifier2.keras\n",
            "\u001b[1m841/841\u001b[0m \u001b[32m━━━━━━━━━━━━━━━━━━━━\u001b[0m\u001b[37m\u001b[0m \u001b[1m5s\u001b[0m 3ms/step - accuracy: 0.8379 - loss: 0.5128 - val_accuracy: 0.9039 - val_loss: 0.3485\n",
            "Epoch 9/1000\n",
            "\u001b[1m823/841\u001b[0m \u001b[32m━━━━━━━━━━━━━━━━━━━\u001b[0m\u001b[37m━\u001b[0m \u001b[1m0s\u001b[0m 2ms/step - accuracy: 0.8465 - loss: 0.4867\n",
            "Epoch 9: saving model to /content/keypoint_classifier2.keras\n",
            "\u001b[1m841/841\u001b[0m \u001b[32m━━━━━━━━━━━━━━━━━━━━\u001b[0m\u001b[37m\u001b[0m \u001b[1m5s\u001b[0m 3ms/step - accuracy: 0.8465 - loss: 0.4866 - val_accuracy: 0.8933 - val_loss: 0.3387\n",
            "Epoch 10/1000\n",
            "\u001b[1m820/841\u001b[0m \u001b[32m━━━━━━━━━━━━━━━━━━━\u001b[0m\u001b[37m━\u001b[0m \u001b[1m0s\u001b[0m 2ms/step - accuracy: 0.8536 - loss: 0.4658\n",
            "Epoch 10: saving model to /content/keypoint_classifier2.keras\n",
            "\u001b[1m841/841\u001b[0m \u001b[32m━━━━━━━━━━━━━━━━━━━━\u001b[0m\u001b[37m\u001b[0m \u001b[1m3s\u001b[0m 3ms/step - accuracy: 0.8537 - loss: 0.4657 - val_accuracy: 0.8808 - val_loss: 0.3458\n",
            "Epoch 11/1000\n",
            "\u001b[1m820/841\u001b[0m \u001b[32m━━━━━━━━━━━━━━━━━━━\u001b[0m\u001b[37m━\u001b[0m \u001b[1m0s\u001b[0m 2ms/step - accuracy: 0.8640 - loss: 0.4391\n",
            "Epoch 11: saving model to /content/keypoint_classifier2.keras\n",
            "\u001b[1m841/841\u001b[0m \u001b[32m━━━━━━━━━━━━━━━━━━━━\u001b[0m\u001b[37m\u001b[0m \u001b[1m3s\u001b[0m 3ms/step - accuracy: 0.8639 - loss: 0.4392 - val_accuracy: 0.8641 - val_loss: 0.3698\n",
            "Epoch 12/1000\n",
            "\u001b[1m829/841\u001b[0m \u001b[32m━━━━━━━━━━━━━━━━━━━\u001b[0m\u001b[37m━\u001b[0m \u001b[1m0s\u001b[0m 3ms/step - accuracy: 0.8672 - loss: 0.4286\n",
            "Epoch 12: saving model to /content/keypoint_classifier2.keras\n",
            "\u001b[1m841/841\u001b[0m \u001b[32m━━━━━━━━━━━━━━━━━━━━\u001b[0m\u001b[37m\u001b[0m \u001b[1m3s\u001b[0m 4ms/step - accuracy: 0.8672 - loss: 0.4286 - val_accuracy: 0.9038 - val_loss: 0.3103\n",
            "Epoch 13/1000\n",
            "\u001b[1m830/841\u001b[0m \u001b[32m━━━━━━━━━━━━━━━━━━━\u001b[0m\u001b[37m━\u001b[0m \u001b[1m0s\u001b[0m 2ms/step - accuracy: 0.8694 - loss: 0.4230\n",
            "Epoch 13: saving model to /content/keypoint_classifier2.keras\n",
            "\u001b[1m841/841\u001b[0m \u001b[32m━━━━━━━━━━━━━━━━━━━━\u001b[0m\u001b[37m\u001b[0m \u001b[1m5s\u001b[0m 3ms/step - accuracy: 0.8694 - loss: 0.4230 - val_accuracy: 0.8911 - val_loss: 0.3339\n",
            "Epoch 14/1000\n",
            "\u001b[1m838/841\u001b[0m \u001b[32m━━━━━━━━━━━━━━━━━━━\u001b[0m\u001b[37m━\u001b[0m \u001b[1m0s\u001b[0m 2ms/step - accuracy: 0.8721 - loss: 0.4139\n",
            "Epoch 14: saving model to /content/keypoint_classifier2.keras\n",
            "\u001b[1m841/841\u001b[0m \u001b[32m━━━━━━━━━━━━━━━━━━━━\u001b[0m\u001b[37m\u001b[0m \u001b[1m3s\u001b[0m 3ms/step - accuracy: 0.8721 - loss: 0.4139 - val_accuracy: 0.8855 - val_loss: 0.3272\n",
            "Epoch 15/1000\n",
            "\u001b[1m831/841\u001b[0m \u001b[32m━━━━━━━━━━━━━━━━━━━\u001b[0m\u001b[37m━\u001b[0m \u001b[1m0s\u001b[0m 2ms/step - accuracy: 0.8747 - loss: 0.4079\n",
            "Epoch 15: saving model to /content/keypoint_classifier2.keras\n",
            "\u001b[1m841/841\u001b[0m \u001b[32m━━━━━━━━━━━━━━━━━━━━\u001b[0m\u001b[37m\u001b[0m \u001b[1m3s\u001b[0m 3ms/step - accuracy: 0.8748 - loss: 0.4079 - val_accuracy: 0.8658 - val_loss: 0.3721\n",
            "Epoch 16/1000\n",
            "\u001b[1m832/841\u001b[0m \u001b[32m━━━━━━━━━━━━━━━━━━━\u001b[0m\u001b[37m━\u001b[0m \u001b[1m0s\u001b[0m 2ms/step - accuracy: 0.8797 - loss: 0.3972\n",
            "Epoch 16: saving model to /content/keypoint_classifier2.keras\n",
            "\u001b[1m841/841\u001b[0m \u001b[32m━━━━━━━━━━━━━━━━━━━━\u001b[0m\u001b[37m\u001b[0m \u001b[1m5s\u001b[0m 3ms/step - accuracy: 0.8796 - loss: 0.3972 - val_accuracy: 0.9010 - val_loss: 0.3062\n",
            "Epoch 17/1000\n",
            "\u001b[1m831/841\u001b[0m \u001b[32m━━━━━━━━━━━━━━━━━━━\u001b[0m\u001b[37m━\u001b[0m \u001b[1m0s\u001b[0m 2ms/step - accuracy: 0.8795 - loss: 0.3928\n",
            "Epoch 17: saving model to /content/keypoint_classifier2.keras\n",
            "\u001b[1m841/841\u001b[0m \u001b[32m━━━━━━━━━━━━━━━━━━━━\u001b[0m\u001b[37m\u001b[0m \u001b[1m5s\u001b[0m 3ms/step - accuracy: 0.8795 - loss: 0.3928 - val_accuracy: 0.8646 - val_loss: 0.4020\n",
            "Epoch 18/1000\n",
            "\u001b[1m832/841\u001b[0m \u001b[32m━━━━━━━━━━━━━━━━━━━\u001b[0m\u001b[37m━\u001b[0m \u001b[1m0s\u001b[0m 3ms/step - accuracy: 0.8842 - loss: 0.3759\n",
            "Epoch 18: saving model to /content/keypoint_classifier2.keras\n",
            "\u001b[1m841/841\u001b[0m \u001b[32m━━━━━━━━━━━━━━━━━━━━\u001b[0m\u001b[37m\u001b[0m \u001b[1m3s\u001b[0m 4ms/step - accuracy: 0.8842 - loss: 0.3760 - val_accuracy: 0.8582 - val_loss: 0.4023\n",
            "Epoch 19/1000\n",
            "\u001b[1m831/841\u001b[0m \u001b[32m━━━━━━━━━━━━━━━━━━━\u001b[0m\u001b[37m━\u001b[0m \u001b[1m0s\u001b[0m 2ms/step - accuracy: 0.8845 - loss: 0.3802\n",
            "Epoch 19: saving model to /content/keypoint_classifier2.keras\n",
            "\u001b[1m841/841\u001b[0m \u001b[32m━━━━━━━━━━━━━━━━━━━━\u001b[0m\u001b[37m\u001b[0m \u001b[1m3s\u001b[0m 3ms/step - accuracy: 0.8845 - loss: 0.3802 - val_accuracy: 0.8658 - val_loss: 0.3710\n",
            "Epoch 20/1000\n",
            "\u001b[1m822/841\u001b[0m \u001b[32m━━━━━━━━━━━━━━━━━━━\u001b[0m\u001b[37m━\u001b[0m \u001b[1m0s\u001b[0m 2ms/step - accuracy: 0.8854 - loss: 0.3715\n",
            "Epoch 20: saving model to /content/keypoint_classifier2.keras\n",
            "\u001b[1m841/841\u001b[0m \u001b[32m━━━━━━━━━━━━━━━━━━━━\u001b[0m\u001b[37m\u001b[0m \u001b[1m3s\u001b[0m 3ms/step - accuracy: 0.8854 - loss: 0.3715 - val_accuracy: 0.8495 - val_loss: 0.4208\n",
            "Epoch 21/1000\n",
            "\u001b[1m830/841\u001b[0m \u001b[32m━━━━━━━━━━━━━━━━━━━\u001b[0m\u001b[37m━\u001b[0m \u001b[1m0s\u001b[0m 2ms/step - accuracy: 0.8886 - loss: 0.3656\n",
            "Epoch 21: saving model to /content/keypoint_classifier2.keras\n",
            "\u001b[1m841/841\u001b[0m \u001b[32m━━━━━━━━━━━━━━━━━━━━\u001b[0m\u001b[37m\u001b[0m \u001b[1m2s\u001b[0m 3ms/step - accuracy: 0.8886 - loss: 0.3656 - val_accuracy: 0.8599 - val_loss: 0.4088\n",
            "Epoch 22/1000\n",
            "\u001b[1m836/841\u001b[0m \u001b[32m━━━━━━━━━━━━━━━━━━━\u001b[0m\u001b[37m━\u001b[0m \u001b[1m0s\u001b[0m 2ms/step - accuracy: 0.8901 - loss: 0.3567\n",
            "Epoch 22: saving model to /content/keypoint_classifier2.keras\n",
            "\u001b[1m841/841\u001b[0m \u001b[32m━━━━━━━━━━━━━━━━━━━━\u001b[0m\u001b[37m\u001b[0m \u001b[1m3s\u001b[0m 4ms/step - accuracy: 0.8901 - loss: 0.3567 - val_accuracy: 0.8685 - val_loss: 0.3710\n",
            "Epoch 23/1000\n",
            "\u001b[1m829/841\u001b[0m \u001b[32m━━━━━━━━━━━━━━━━━━━\u001b[0m\u001b[37m━\u001b[0m \u001b[1m0s\u001b[0m 2ms/step - accuracy: 0.8908 - loss: 0.3585\n",
            "Epoch 23: saving model to /content/keypoint_classifier2.keras\n",
            "\u001b[1m841/841\u001b[0m \u001b[32m━━━━━━━━━━━━━━━━━━━━\u001b[0m\u001b[37m\u001b[0m \u001b[1m3s\u001b[0m 3ms/step - accuracy: 0.8908 - loss: 0.3584 - val_accuracy: 0.8890 - val_loss: 0.3283\n",
            "Epoch 24/1000\n",
            "\u001b[1m826/841\u001b[0m \u001b[32m━━━━━━━━━━━━━━━━━━━\u001b[0m\u001b[37m━\u001b[0m \u001b[1m0s\u001b[0m 2ms/step - accuracy: 0.8916 - loss: 0.3505\n",
            "Epoch 24: saving model to /content/keypoint_classifier2.keras\n",
            "\u001b[1m841/841\u001b[0m \u001b[32m━━━━━━━━━━━━━━━━━━━━\u001b[0m\u001b[37m\u001b[0m \u001b[1m5s\u001b[0m 3ms/step - accuracy: 0.8917 - loss: 0.3504 - val_accuracy: 0.8701 - val_loss: 0.3907\n",
            "Epoch 25/1000\n",
            "\u001b[1m840/841\u001b[0m \u001b[32m━━━━━━━━━━━━━━━━━━━\u001b[0m\u001b[37m━\u001b[0m \u001b[1m0s\u001b[0m 2ms/step - accuracy: 0.8930 - loss: 0.3441\n",
            "Epoch 25: saving model to /content/keypoint_classifier2.keras\n",
            "\u001b[1m841/841\u001b[0m \u001b[32m━━━━━━━━━━━━━━━━━━━━\u001b[0m\u001b[37m\u001b[0m \u001b[1m3s\u001b[0m 3ms/step - accuracy: 0.8930 - loss: 0.3441 - val_accuracy: 0.8628 - val_loss: 0.4257\n",
            "Epoch 26/1000\n",
            "\u001b[1m832/841\u001b[0m \u001b[32m━━━━━━━━━━━━━━━━━━━\u001b[0m\u001b[37m━\u001b[0m \u001b[1m0s\u001b[0m 3ms/step - accuracy: 0.8937 - loss: 0.3513\n",
            "Epoch 26: saving model to /content/keypoint_classifier2.keras\n",
            "\u001b[1m841/841\u001b[0m \u001b[32m━━━━━━━━━━━━━━━━━━━━\u001b[0m\u001b[37m\u001b[0m \u001b[1m3s\u001b[0m 4ms/step - accuracy: 0.8937 - loss: 0.3513 - val_accuracy: 0.8691 - val_loss: 0.4055\n",
            "Epoch 27/1000\n",
            "\u001b[1m829/841\u001b[0m \u001b[32m━━━━━━━━━━━━━━━━━━━\u001b[0m\u001b[37m━\u001b[0m \u001b[1m0s\u001b[0m 2ms/step - accuracy: 0.8949 - loss: 0.3438\n",
            "Epoch 27: saving model to /content/keypoint_classifier2.keras\n",
            "\u001b[1m841/841\u001b[0m \u001b[32m━━━━━━━━━━━━━━━━━━━━\u001b[0m\u001b[37m\u001b[0m \u001b[1m4s\u001b[0m 3ms/step - accuracy: 0.8949 - loss: 0.3438 - val_accuracy: 0.8680 - val_loss: 0.4045\n",
            "Epoch 28/1000\n",
            "\u001b[1m834/841\u001b[0m \u001b[32m━━━━━━━━━━━━━━━━━━━\u001b[0m\u001b[37m━\u001b[0m \u001b[1m0s\u001b[0m 2ms/step - accuracy: 0.8973 - loss: 0.3341\n",
            "Epoch 28: saving model to /content/keypoint_classifier2.keras\n",
            "\u001b[1m841/841\u001b[0m \u001b[32m━━━━━━━━━━━━━━━━━━━━\u001b[0m\u001b[37m\u001b[0m \u001b[1m3s\u001b[0m 3ms/step - accuracy: 0.8973 - loss: 0.3341 - val_accuracy: 0.8392 - val_loss: 0.4959\n",
            "Epoch 29/1000\n",
            "\u001b[1m827/841\u001b[0m \u001b[32m━━━━━━━━━━━━━━━━━━━\u001b[0m\u001b[37m━\u001b[0m \u001b[1m0s\u001b[0m 2ms/step - accuracy: 0.8985 - loss: 0.3330\n",
            "Epoch 29: saving model to /content/keypoint_classifier2.keras\n",
            "\u001b[1m841/841\u001b[0m \u001b[32m━━━━━━━━━━━━━━━━━━━━\u001b[0m\u001b[37m\u001b[0m \u001b[1m3s\u001b[0m 4ms/step - accuracy: 0.8985 - loss: 0.3331 - val_accuracy: 0.8602 - val_loss: 0.4342\n",
            "Epoch 30/1000\n",
            "\u001b[1m833/841\u001b[0m \u001b[32m━━━━━━━━━━━━━━━━━━━\u001b[0m\u001b[37m━\u001b[0m \u001b[1m0s\u001b[0m 2ms/step - accuracy: 0.8998 - loss: 0.3299\n",
            "Epoch 30: saving model to /content/keypoint_classifier2.keras\n",
            "\u001b[1m841/841\u001b[0m \u001b[32m━━━━━━━━━━━━━━━━━━━━\u001b[0m\u001b[37m\u001b[0m \u001b[1m4s\u001b[0m 3ms/step - accuracy: 0.8998 - loss: 0.3299 - val_accuracy: 0.8719 - val_loss: 0.3530\n",
            "Epoch 31/1000\n",
            "\u001b[1m838/841\u001b[0m \u001b[32m━━━━━━━━━━━━━━━━━━━\u001b[0m\u001b[37m━\u001b[0m \u001b[1m0s\u001b[0m 2ms/step - accuracy: 0.9003 - loss: 0.3251\n",
            "Epoch 31: saving model to /content/keypoint_classifier2.keras\n",
            "\u001b[1m841/841\u001b[0m \u001b[32m━━━━━━━━━━━━━━━━━━━━\u001b[0m\u001b[37m\u001b[0m \u001b[1m5s\u001b[0m 3ms/step - accuracy: 0.9003 - loss: 0.3251 - val_accuracy: 0.8439 - val_loss: 0.4337\n",
            "Epoch 32/1000\n",
            "\u001b[1m830/841\u001b[0m \u001b[32m━━━━━━━━━━━━━━━━━━━\u001b[0m\u001b[37m━\u001b[0m \u001b[1m0s\u001b[0m 3ms/step - accuracy: 0.9023 - loss: 0.3182\n",
            "Epoch 32: saving model to /content/keypoint_classifier2.keras\n",
            "\u001b[1m841/841\u001b[0m \u001b[32m━━━━━━━━━━━━━━━━━━━━\u001b[0m\u001b[37m\u001b[0m \u001b[1m3s\u001b[0m 4ms/step - accuracy: 0.9023 - loss: 0.3182 - val_accuracy: 0.8296 - val_loss: 0.5413\n",
            "Epoch 33/1000\n",
            "\u001b[1m837/841\u001b[0m \u001b[32m━━━━━━━━━━━━━━━━━━━\u001b[0m\u001b[37m━\u001b[0m \u001b[1m0s\u001b[0m 2ms/step - accuracy: 0.9002 - loss: 0.3271\n",
            "Epoch 33: saving model to /content/keypoint_classifier2.keras\n",
            "\u001b[1m841/841\u001b[0m \u001b[32m━━━━━━━━━━━━━━━━━━━━\u001b[0m\u001b[37m\u001b[0m \u001b[1m3s\u001b[0m 3ms/step - accuracy: 0.9002 - loss: 0.3271 - val_accuracy: 0.8351 - val_loss: 0.5001\n",
            "Epoch 34/1000\n",
            "\u001b[1m836/841\u001b[0m \u001b[32m━━━━━━━━━━━━━━━━━━━\u001b[0m\u001b[37m━\u001b[0m \u001b[1m0s\u001b[0m 2ms/step - accuracy: 0.9020 - loss: 0.3182\n",
            "Epoch 34: saving model to /content/keypoint_classifier2.keras\n",
            "\u001b[1m841/841\u001b[0m \u001b[32m━━━━━━━━━━━━━━━━━━━━\u001b[0m\u001b[37m\u001b[0m \u001b[1m3s\u001b[0m 3ms/step - accuracy: 0.9020 - loss: 0.3182 - val_accuracy: 0.8426 - val_loss: 0.4758\n",
            "Epoch 35/1000\n",
            "\u001b[1m833/841\u001b[0m \u001b[32m━━━━━━━━━━━━━━━━━━━\u001b[0m\u001b[37m━\u001b[0m \u001b[1m0s\u001b[0m 2ms/step - accuracy: 0.9021 - loss: 0.3212\n",
            "Epoch 35: saving model to /content/keypoint_classifier2.keras\n",
            "\u001b[1m841/841\u001b[0m \u001b[32m━━━━━━━━━━━━━━━━━━━━\u001b[0m\u001b[37m\u001b[0m \u001b[1m5s\u001b[0m 4ms/step - accuracy: 0.9021 - loss: 0.3212 - val_accuracy: 0.8599 - val_loss: 0.4371\n",
            "Epoch 36/1000\n",
            "\u001b[1m832/841\u001b[0m \u001b[32m━━━━━━━━━━━━━━━━━━━\u001b[0m\u001b[37m━\u001b[0m \u001b[1m0s\u001b[0m 2ms/step - accuracy: 0.9045 - loss: 0.3138\n",
            "Epoch 36: saving model to /content/keypoint_classifier2.keras\n",
            "\u001b[1m841/841\u001b[0m \u001b[32m━━━━━━━━━━━━━━━━━━━━\u001b[0m\u001b[37m\u001b[0m \u001b[1m5s\u001b[0m 3ms/step - accuracy: 0.9045 - loss: 0.3138 - val_accuracy: 0.8707 - val_loss: 0.4040\n",
            "Epoch 37/1000\n",
            "\u001b[1m830/841\u001b[0m \u001b[32m━━━━━━━━━━━━━━━━━━━\u001b[0m\u001b[37m━\u001b[0m \u001b[1m0s\u001b[0m 2ms/step - accuracy: 0.9033 - loss: 0.3169\n",
            "Epoch 37: saving model to /content/keypoint_classifier2.keras\n",
            "\u001b[1m841/841\u001b[0m \u001b[32m━━━━━━━━━━━━━━━━━━━━\u001b[0m\u001b[37m\u001b[0m \u001b[1m5s\u001b[0m 3ms/step - accuracy: 0.9033 - loss: 0.3168 - val_accuracy: 0.8327 - val_loss: 0.5396\n",
            "Epoch 38/1000\n",
            "\u001b[1m839/841\u001b[0m \u001b[32m━━━━━━━━━━━━━━━━━━━\u001b[0m\u001b[37m━\u001b[0m \u001b[1m0s\u001b[0m 2ms/step - accuracy: 0.9045 - loss: 0.3091\n",
            "Epoch 38: saving model to /content/keypoint_classifier2.keras\n",
            "\u001b[1m841/841\u001b[0m \u001b[32m━━━━━━━━━━━━━━━━━━━━\u001b[0m\u001b[37m\u001b[0m \u001b[1m5s\u001b[0m 3ms/step - accuracy: 0.9045 - loss: 0.3091 - val_accuracy: 0.7942 - val_loss: 0.6651\n",
            "Epoch 39/1000\n",
            "\u001b[1m822/841\u001b[0m \u001b[32m━━━━━━━━━━━━━━━━━━━\u001b[0m\u001b[37m━\u001b[0m \u001b[1m0s\u001b[0m 2ms/step - accuracy: 0.9033 - loss: 0.3154\n",
            "Epoch 39: saving model to /content/keypoint_classifier2.keras\n",
            "\u001b[1m841/841\u001b[0m \u001b[32m━━━━━━━━━━━━━━━━━━━━\u001b[0m\u001b[37m\u001b[0m \u001b[1m5s\u001b[0m 3ms/step - accuracy: 0.9033 - loss: 0.3153 - val_accuracy: 0.8362 - val_loss: 0.5158\n",
            "Epoch 40/1000\n",
            "\u001b[1m833/841\u001b[0m \u001b[32m━━━━━━━━━━━━━━━━━━━\u001b[0m\u001b[37m━\u001b[0m \u001b[1m0s\u001b[0m 3ms/step - accuracy: 0.9058 - loss: 0.3084\n",
            "Epoch 40: saving model to /content/keypoint_classifier2.keras\n",
            "\u001b[1m841/841\u001b[0m \u001b[32m━━━━━━━━━━━━━━━━━━━━\u001b[0m\u001b[37m\u001b[0m \u001b[1m5s\u001b[0m 3ms/step - accuracy: 0.9058 - loss: 0.3084 - val_accuracy: 0.8453 - val_loss: 0.4737\n",
            "Epoch 41/1000\n",
            "\u001b[1m821/841\u001b[0m \u001b[32m━━━━━━━━━━━━━━━━━━━\u001b[0m\u001b[37m━\u001b[0m \u001b[1m0s\u001b[0m 2ms/step - accuracy: 0.9066 - loss: 0.3105\n",
            "Epoch 41: saving model to /content/keypoint_classifier2.keras\n",
            "\u001b[1m841/841\u001b[0m \u001b[32m━━━━━━━━━━━━━━━━━━━━\u001b[0m\u001b[37m\u001b[0m \u001b[1m3s\u001b[0m 3ms/step - accuracy: 0.9066 - loss: 0.3104 - val_accuracy: 0.8262 - val_loss: 0.5116\n",
            "Epoch 42/1000\n",
            "\u001b[1m841/841\u001b[0m \u001b[32m━━━━━━━━━━━━━━━━━━━━\u001b[0m\u001b[37m\u001b[0m \u001b[1m0s\u001b[0m 2ms/step - accuracy: 0.9067 - loss: 0.3058\n",
            "Epoch 42: saving model to /content/keypoint_classifier2.keras\n",
            "\u001b[1m841/841\u001b[0m \u001b[32m━━━━━━━━━━━━━━━━━━━━\u001b[0m\u001b[37m\u001b[0m \u001b[1m5s\u001b[0m 3ms/step - accuracy: 0.9067 - loss: 0.3058 - val_accuracy: 0.8365 - val_loss: 0.5346\n",
            "Epoch 43/1000\n",
            "\u001b[1m832/841\u001b[0m \u001b[32m━━━━━━━━━━━━━━━━━━━\u001b[0m\u001b[37m━\u001b[0m \u001b[1m0s\u001b[0m 3ms/step - accuracy: 0.9072 - loss: 0.3015\n",
            "Epoch 43: saving model to /content/keypoint_classifier2.keras\n",
            "\u001b[1m841/841\u001b[0m \u001b[32m━━━━━━━━━━━━━━━━━━━━\u001b[0m\u001b[37m\u001b[0m \u001b[1m3s\u001b[0m 4ms/step - accuracy: 0.9072 - loss: 0.3015 - val_accuracy: 0.8570 - val_loss: 0.4460\n",
            "Epoch 44/1000\n",
            "\u001b[1m839/841\u001b[0m \u001b[32m━━━━━━━━━━━━━━━━━━━\u001b[0m\u001b[37m━\u001b[0m \u001b[1m0s\u001b[0m 2ms/step - accuracy: 0.9071 - loss: 0.3043\n",
            "Epoch 44: saving model to /content/keypoint_classifier2.keras\n",
            "\u001b[1m841/841\u001b[0m \u001b[32m━━━━━━━━━━━━━━━━━━━━\u001b[0m\u001b[37m\u001b[0m \u001b[1m3s\u001b[0m 3ms/step - accuracy: 0.9071 - loss: 0.3043 - val_accuracy: 0.8598 - val_loss: 0.4468\n",
            "Epoch 45/1000\n",
            "\u001b[1m822/841\u001b[0m \u001b[32m━━━━━━━━━━━━━━━━━━━\u001b[0m\u001b[37m━\u001b[0m \u001b[1m0s\u001b[0m 2ms/step - accuracy: 0.9089 - loss: 0.2980\n",
            "Epoch 45: saving model to /content/keypoint_classifier2.keras\n",
            "\u001b[1m841/841\u001b[0m \u001b[32m━━━━━━━━━━━━━━━━━━━━\u001b[0m\u001b[37m\u001b[0m \u001b[1m5s\u001b[0m 3ms/step - accuracy: 0.9089 - loss: 0.2979 - val_accuracy: 0.8248 - val_loss: 0.5840\n",
            "Epoch 46/1000\n",
            "\u001b[1m834/841\u001b[0m \u001b[32m━━━━━━━━━━━━━━━━━━━\u001b[0m\u001b[37m━\u001b[0m \u001b[1m0s\u001b[0m 2ms/step - accuracy: 0.9078 - loss: 0.2947\n",
            "Epoch 46: saving model to /content/keypoint_classifier2.keras\n",
            "\u001b[1m841/841\u001b[0m \u001b[32m━━━━━━━━━━━━━━━━━━━━\u001b[0m\u001b[37m\u001b[0m \u001b[1m5s\u001b[0m 3ms/step - accuracy: 0.9078 - loss: 0.2947 - val_accuracy: 0.8438 - val_loss: 0.4759\n",
            "Epoch 47/1000\n",
            "\u001b[1m831/841\u001b[0m \u001b[32m━━━━━━━━━━━━━━━━━━━\u001b[0m\u001b[37m━\u001b[0m \u001b[1m0s\u001b[0m 2ms/step - accuracy: 0.9096 - loss: 0.2944\n",
            "Epoch 47: saving model to /content/keypoint_classifier2.keras\n",
            "\u001b[1m841/841\u001b[0m \u001b[32m━━━━━━━━━━━━━━━━━━━━\u001b[0m\u001b[37m\u001b[0m \u001b[1m3s\u001b[0m 3ms/step - accuracy: 0.9096 - loss: 0.2944 - val_accuracy: 0.8197 - val_loss: 0.5951\n",
            "Epoch 48/1000\n",
            "\u001b[1m840/841\u001b[0m \u001b[32m━━━━━━━━━━━━━━━━━━━\u001b[0m\u001b[37m━\u001b[0m \u001b[1m0s\u001b[0m 2ms/step - accuracy: 0.9095 - loss: 0.2948\n",
            "Epoch 48: saving model to /content/keypoint_classifier2.keras\n",
            "\u001b[1m841/841\u001b[0m \u001b[32m━━━━━━━━━━━━━━━━━━━━\u001b[0m\u001b[37m\u001b[0m \u001b[1m6s\u001b[0m 4ms/step - accuracy: 0.9095 - loss: 0.2949 - val_accuracy: 0.8426 - val_loss: 0.4809\n",
            "Epoch 49/1000\n",
            "\u001b[1m828/841\u001b[0m \u001b[32m━━━━━━━━━━━━━━━━━━━\u001b[0m\u001b[37m━\u001b[0m \u001b[1m0s\u001b[0m 2ms/step - accuracy: 0.9100 - loss: 0.2976\n",
            "Epoch 49: saving model to /content/keypoint_classifier2.keras\n",
            "\u001b[1m841/841\u001b[0m \u001b[32m━━━━━━━━━━━━━━━━━━━━\u001b[0m\u001b[37m\u001b[0m \u001b[1m3s\u001b[0m 3ms/step - accuracy: 0.9100 - loss: 0.2975 - val_accuracy: 0.8216 - val_loss: 0.5399\n",
            "Epoch 50/1000\n",
            "\u001b[1m836/841\u001b[0m \u001b[32m━━━━━━━━━━━━━━━━━━━\u001b[0m\u001b[37m━\u001b[0m \u001b[1m0s\u001b[0m 2ms/step - accuracy: 0.9108 - loss: 0.2932\n",
            "Epoch 50: saving model to /content/keypoint_classifier2.keras\n",
            "\u001b[1m841/841\u001b[0m \u001b[32m━━━━━━━━━━━━━━━━━━━━\u001b[0m\u001b[37m\u001b[0m \u001b[1m5s\u001b[0m 3ms/step - accuracy: 0.9108 - loss: 0.2932 - val_accuracy: 0.8080 - val_loss: 0.5951\n",
            "Epoch 51/1000\n",
            "\u001b[1m823/841\u001b[0m \u001b[32m━━━━━━━━━━━━━━━━━━━\u001b[0m\u001b[37m━\u001b[0m \u001b[1m0s\u001b[0m 3ms/step - accuracy: 0.9112 - loss: 0.2917\n",
            "Epoch 51: saving model to /content/keypoint_classifier2.keras\n",
            "\u001b[1m841/841\u001b[0m \u001b[32m━━━━━━━━━━━━━━━━━━━━\u001b[0m\u001b[37m\u001b[0m \u001b[1m6s\u001b[0m 4ms/step - accuracy: 0.9112 - loss: 0.2917 - val_accuracy: 0.8314 - val_loss: 0.5461\n",
            "Epoch 52/1000\n",
            "\u001b[1m837/841\u001b[0m \u001b[32m━━━━━━━━━━━━━━━━━━━\u001b[0m\u001b[37m━\u001b[0m \u001b[1m0s\u001b[0m 2ms/step - accuracy: 0.9117 - loss: 0.2916\n",
            "Epoch 52: saving model to /content/keypoint_classifier2.keras\n",
            "\u001b[1m841/841\u001b[0m \u001b[32m━━━━━━━━━━━━━━━━━━━━\u001b[0m\u001b[37m\u001b[0m \u001b[1m4s\u001b[0m 3ms/step - accuracy: 0.9117 - loss: 0.2916 - val_accuracy: 0.8300 - val_loss: 0.5263\n",
            "Epoch 53/1000\n",
            "\u001b[1m835/841\u001b[0m \u001b[32m━━━━━━━━━━━━━━━━━━━\u001b[0m\u001b[37m━\u001b[0m \u001b[1m0s\u001b[0m 3ms/step - accuracy: 0.9100 - loss: 0.2950\n",
            "Epoch 53: saving model to /content/keypoint_classifier2.keras\n",
            "\u001b[1m841/841\u001b[0m \u001b[32m━━━━━━━━━━━━━━━━━━━━\u001b[0m\u001b[37m\u001b[0m \u001b[1m6s\u001b[0m 4ms/step - accuracy: 0.9100 - loss: 0.2949 - val_accuracy: 0.8508 - val_loss: 0.5020\n",
            "Epoch 54/1000\n",
            "\u001b[1m821/841\u001b[0m \u001b[32m━━━━━━━━━━━━━━━━━━━\u001b[0m\u001b[37m━\u001b[0m \u001b[1m0s\u001b[0m 2ms/step - accuracy: 0.9111 - loss: 0.2904\n",
            "Epoch 54: saving model to /content/keypoint_classifier2.keras\n",
            "\u001b[1m841/841\u001b[0m \u001b[32m━━━━━━━━━━━━━━━━━━━━\u001b[0m\u001b[37m\u001b[0m \u001b[1m3s\u001b[0m 3ms/step - accuracy: 0.9111 - loss: 0.2904 - val_accuracy: 0.8175 - val_loss: 0.6188\n",
            "Epoch 55/1000\n",
            "\u001b[1m836/841\u001b[0m \u001b[32m━━━━━━━━━━━━━━━━━━━\u001b[0m\u001b[37m━\u001b[0m \u001b[1m0s\u001b[0m 2ms/step - accuracy: 0.9104 - loss: 0.2941\n",
            "Epoch 55: saving model to /content/keypoint_classifier2.keras\n",
            "\u001b[1m841/841\u001b[0m \u001b[32m━━━━━━━━━━━━━━━━━━━━\u001b[0m\u001b[37m\u001b[0m \u001b[1m5s\u001b[0m 3ms/step - accuracy: 0.9104 - loss: 0.2941 - val_accuracy: 0.8481 - val_loss: 0.4630\n",
            "Epoch 56/1000\n",
            "\u001b[1m839/841\u001b[0m \u001b[32m━━━━━━━━━━━━━━━━━━━\u001b[0m\u001b[37m━\u001b[0m \u001b[1m0s\u001b[0m 3ms/step - accuracy: 0.9108 - loss: 0.2863\n",
            "Epoch 56: saving model to /content/keypoint_classifier2.keras\n",
            "\u001b[1m841/841\u001b[0m \u001b[32m━━━━━━━━━━━━━━━━━━━━\u001b[0m\u001b[37m\u001b[0m \u001b[1m6s\u001b[0m 4ms/step - accuracy: 0.9108 - loss: 0.2863 - val_accuracy: 0.8461 - val_loss: 0.4795\n",
            "Epoch 57/1000\n",
            "\u001b[1m833/841\u001b[0m \u001b[32m━━━━━━━━━━━━━━━━━━━\u001b[0m\u001b[37m━\u001b[0m \u001b[1m0s\u001b[0m 2ms/step - accuracy: 0.9102 - loss: 0.2934\n",
            "Epoch 57: saving model to /content/keypoint_classifier2.keras\n",
            "\u001b[1m841/841\u001b[0m \u001b[32m━━━━━━━━━━━━━━━━━━━━\u001b[0m\u001b[37m\u001b[0m \u001b[1m4s\u001b[0m 3ms/step - accuracy: 0.9102 - loss: 0.2934 - val_accuracy: 0.8001 - val_loss: 0.6702\n",
            "Epoch 58/1000\n",
            "\u001b[1m837/841\u001b[0m \u001b[32m━━━━━━━━━━━━━━━━━━━\u001b[0m\u001b[37m━\u001b[0m \u001b[1m0s\u001b[0m 2ms/step - accuracy: 0.9124 - loss: 0.2832\n",
            "Epoch 58: saving model to /content/keypoint_classifier2.keras\n",
            "\u001b[1m841/841\u001b[0m \u001b[32m━━━━━━━━━━━━━━━━━━━━\u001b[0m\u001b[37m\u001b[0m \u001b[1m3s\u001b[0m 3ms/step - accuracy: 0.9124 - loss: 0.2833 - val_accuracy: 0.8262 - val_loss: 0.5310\n",
            "Epoch 59/1000\n",
            "\u001b[1m841/841\u001b[0m \u001b[32m━━━━━━━━━━━━━━━━━━━━\u001b[0m\u001b[37m\u001b[0m \u001b[1m0s\u001b[0m 2ms/step - accuracy: 0.9116 - loss: 0.2870\n",
            "Epoch 59: saving model to /content/keypoint_classifier2.keras\n",
            "\u001b[1m841/841\u001b[0m \u001b[32m━━━━━━━━━━━━━━━━━━━━\u001b[0m\u001b[37m\u001b[0m \u001b[1m5s\u001b[0m 3ms/step - accuracy: 0.9116 - loss: 0.2870 - val_accuracy: 0.8109 - val_loss: 0.5770\n",
            "Epoch 60/1000\n",
            "\u001b[1m822/841\u001b[0m \u001b[32m━━━━━━━━━━━━━━━━━━━\u001b[0m\u001b[37m━\u001b[0m \u001b[1m0s\u001b[0m 2ms/step - accuracy: 0.9116 - loss: 0.2869\n",
            "Epoch 60: saving model to /content/keypoint_classifier2.keras\n",
            "\u001b[1m841/841\u001b[0m \u001b[32m━━━━━━━━━━━━━━━━━━━━\u001b[0m\u001b[37m\u001b[0m \u001b[1m5s\u001b[0m 3ms/step - accuracy: 0.9116 - loss: 0.2868 - val_accuracy: 0.8261 - val_loss: 0.6316\n",
            "Epoch 61/1000\n",
            "\u001b[1m833/841\u001b[0m \u001b[32m━━━━━━━━━━━━━━━━━━━\u001b[0m\u001b[37m━\u001b[0m \u001b[1m0s\u001b[0m 3ms/step - accuracy: 0.9123 - loss: 0.2865\n",
            "Epoch 61: saving model to /content/keypoint_classifier2.keras\n",
            "\u001b[1m841/841\u001b[0m \u001b[32m━━━━━━━━━━━━━━━━━━━━\u001b[0m\u001b[37m\u001b[0m \u001b[1m6s\u001b[0m 4ms/step - accuracy: 0.9123 - loss: 0.2865 - val_accuracy: 0.8250 - val_loss: 0.5580\n",
            "Epoch 62/1000\n",
            "\u001b[1m824/841\u001b[0m \u001b[32m━━━━━━━━━━━━━━━━━━━\u001b[0m\u001b[37m━\u001b[0m \u001b[1m0s\u001b[0m 2ms/step - accuracy: 0.9138 - loss: 0.2787\n",
            "Epoch 62: saving model to /content/keypoint_classifier2.keras\n",
            "\u001b[1m841/841\u001b[0m \u001b[32m━━━━━━━━━━━━━━━━━━━━\u001b[0m\u001b[37m\u001b[0m \u001b[1m5s\u001b[0m 3ms/step - accuracy: 0.9138 - loss: 0.2788 - val_accuracy: 0.8483 - val_loss: 0.4795\n",
            "Epoch 63/1000\n",
            "\u001b[1m841/841\u001b[0m \u001b[32m━━━━━━━━━━━━━━━━━━━━\u001b[0m\u001b[37m\u001b[0m \u001b[1m0s\u001b[0m 2ms/step - accuracy: 0.9149 - loss: 0.2829\n",
            "Epoch 63: saving model to /content/keypoint_classifier2.keras\n",
            "\u001b[1m841/841\u001b[0m \u001b[32m━━━━━━━━━━━━━━━━━━━━\u001b[0m\u001b[37m\u001b[0m \u001b[1m3s\u001b[0m 3ms/step - accuracy: 0.9149 - loss: 0.2829 - val_accuracy: 0.8079 - val_loss: 0.6437\n",
            "Epoch 64/1000\n",
            "\u001b[1m831/841\u001b[0m \u001b[32m━━━━━━━━━━━━━━━━━━━\u001b[0m\u001b[37m━\u001b[0m \u001b[1m0s\u001b[0m 3ms/step - accuracy: 0.9125 - loss: 0.2864\n",
            "Epoch 64: saving model to /content/keypoint_classifier2.keras\n",
            "\u001b[1m841/841\u001b[0m \u001b[32m━━━━━━━━━━━━━━━━━━━━\u001b[0m\u001b[37m\u001b[0m \u001b[1m4s\u001b[0m 4ms/step - accuracy: 0.9125 - loss: 0.2864 - val_accuracy: 0.8549 - val_loss: 0.4462\n",
            "Epoch 65/1000\n",
            "\u001b[1m835/841\u001b[0m \u001b[32m━━━━━━━━━━━━━━━━━━━\u001b[0m\u001b[37m━\u001b[0m \u001b[1m0s\u001b[0m 2ms/step - accuracy: 0.9145 - loss: 0.2811\n",
            "Epoch 65: saving model to /content/keypoint_classifier2.keras\n",
            "\u001b[1m841/841\u001b[0m \u001b[32m━━━━━━━━━━━━━━━━━━━━\u001b[0m\u001b[37m\u001b[0m \u001b[1m4s\u001b[0m 3ms/step - accuracy: 0.9144 - loss: 0.2812 - val_accuracy: 0.8428 - val_loss: 0.4834\n",
            "Epoch 66/1000\n",
            "\u001b[1m820/841\u001b[0m \u001b[32m━━━━━━━━━━━━━━━━━━━\u001b[0m\u001b[37m━\u001b[0m \u001b[1m0s\u001b[0m 2ms/step - accuracy: 0.9137 - loss: 0.2782\n",
            "Epoch 66: saving model to /content/keypoint_classifier2.keras\n",
            "\u001b[1m841/841\u001b[0m \u001b[32m━━━━━━━━━━━━━━━━━━━━\u001b[0m\u001b[37m\u001b[0m \u001b[1m5s\u001b[0m 3ms/step - accuracy: 0.9137 - loss: 0.2782 - val_accuracy: 0.7978 - val_loss: 0.6310\n",
            "Epoch 66: early stopping\n"
          ]
        },
        {
          "data": {
            "text/plain": [
              "<keras.src.callbacks.history.History at 0x7f78c438b650>"
            ]
          },
          "execution_count": 190,
          "metadata": {},
          "output_type": "execute_result"
        }
      ],
      "source": [
        "model.fit(\n",
        "    X_train,\n",
        "    y_train,\n",
        "    epochs=1000,\n",
        "    batch_size=128,\n",
        "    validation_data=(X_test, y_test),\n",
        "    callbacks=[cp_callback, es_callback]\n",
        ")"
      ]
    },
    {
      "cell_type": "code",
      "execution_count": null,
      "metadata": {
        "colab": {
          "base_uri": "https://localhost:8080/"
        },
        "id": "euFTM4mNSOLE",
        "outputId": "3c0c06e2-3b3f-425b-d509-e84972bd72e1"
      },
      "outputs": [
        {
          "name": "stdout",
          "output_type": "stream",
          "text": [
            "\u001b[1m281/281\u001b[0m \u001b[32m━━━━━━━━━━━━━━━━━━━━\u001b[0m\u001b[37m\u001b[0m \u001b[1m1s\u001b[0m 2ms/step - accuracy: 0.7982 - loss: 0.6322\n"
          ]
        }
      ],
      "source": [
        "# Model evaluation\n",
        "val_loss, val_acc = model.evaluate(X_test, y_test, batch_size=128)"
      ]
    },
    {
      "cell_type": "code",
      "execution_count": null,
      "metadata": {
        "id": "AXQEIhYnSPj4"
      },
      "outputs": [],
      "source": [
        "# Loading the saved model\n",
        "model = tf.keras.models.load_model(model_save_path)"
      ]
    },
    {
      "cell_type": "code",
      "execution_count": null,
      "metadata": {
        "colab": {
          "base_uri": "https://localhost:8080/"
        },
        "id": "jTBmrrGXSRAI",
        "outputId": "9e2e6490-0ca5-4b1e-c01e-f5c1e7bf7ca1"
      },
      "outputs": [
        {
          "name": "stdout",
          "output_type": "stream",
          "text": [
            "\u001b[1m1/1\u001b[0m \u001b[32m━━━━━━━━━━━━━━━━━━━━\u001b[0m\u001b[37m\u001b[0m \u001b[1m0s\u001b[0m 338ms/step\n",
            "[1.3570929e-03 1.7686713e-07 1.2250417e-06 5.2413448e-05 5.6390734e-03\n",
            " 3.9613224e-06 2.2846636e-05 1.3843836e-06 3.0898493e-02 3.3182112e-04\n",
            " 2.0179781e-05 1.6732116e-05 1.1994625e-03 6.5005254e-03 1.6126598e-04\n",
            " 2.0859080e-08 5.3046909e-09 7.2816876e-04 8.7787747e-02 8.2738055e-03\n",
            " 4.9141952e-05 1.6099476e-08 4.0458563e-08 8.5409963e-01 1.5587147e-04\n",
            " 2.2263781e-03 1.8366769e-07 3.0919651e-41 4.7218709e-04]\n",
            "23\n"
          ]
        }
      ],
      "source": [
        "# Inference test\n",
        "predict_result = model.predict(np.array([X_test[0]]))\n",
        "print(np.squeeze(predict_result))\n",
        "print(np.argmax(np.squeeze(predict_result)))"
      ]
    },
    {
      "cell_type": "code",
      "execution_count": null,
      "metadata": {
        "colab": {
          "base_uri": "https://localhost:8080/",
          "height": 1000
        },
        "id": "dvaaotGHSSln",
        "outputId": "48b42ff8-8531-45a8-ddbf-c0ac182ab72f"
      },
      "outputs": [
        {
          "name": "stdout",
          "output_type": "stream",
          "text": [
            "\u001b[1m1121/1121\u001b[0m \u001b[32m━━━━━━━━━━━━━━━━━━━━\u001b[0m\u001b[37m\u001b[0m \u001b[1m2s\u001b[0m 1ms/step\n"
          ]
        },
        {
          "data": {
            "image/png": "[encoded data removed]",
            "text/plain": [
              "<Figure size 700x600 with 2 Axes>"
            ]
          },
          "metadata": {},
          "output_type": "display_data"
        },
        {
          "name": "stdout",
          "output_type": "stream",
          "text": [
            "Classification Report\n",
            "              precision    recall  f1-score   support\n",
            "\n",
            "           0       1.00      0.77      0.87      1309\n",
            "           1       0.93      0.97      0.95      1311\n",
            "           2       0.97      0.92      0.95      1140\n",
            "           3       0.50      0.98      0.66      1348\n",
            "           4       0.97      0.29      0.45      1280\n",
            "           5       0.97      0.95      0.96      1775\n",
            "           6       0.99      0.99      0.99      1441\n",
            "           7       0.98      0.99      0.99      1393\n",
            "           8       0.74      0.96      0.83      1319\n",
            "           9       0.96      0.97      0.96      1381\n",
            "          10       0.90      0.14      0.24      1507\n",
            "          11       0.73      1.00      0.84      1498\n",
            "          12       0.77      0.83      0.80       864\n",
            "          13       0.96      0.65      0.77       721\n",
            "          14       0.99      0.44      0.61      1270\n",
            "          15       0.98      0.94      0.96      1120\n",
            "          16       0.89      0.98      0.93      1173\n",
            "          17       0.98      0.69      0.81      1436\n",
            "          18       0.93      0.24      0.38      1425\n",
            "          19       0.84      0.57      0.68      1359\n",
            "          20       0.60      0.96      0.74      1355\n",
            "          21       0.50      0.95      0.65      1364\n",
            "          22       0.97      0.97      0.97      1470\n",
            "          23       0.22      0.38      0.28      1245\n",
            "          24       0.99      0.99      0.99      1419\n",
            "          25       0.98      0.98      0.98      1186\n",
            "          26       0.96      0.95      0.96       871\n",
            "          28       0.98      0.94      0.96       881\n",
            "\n",
            "    accuracy                           0.80     35861\n",
            "   macro avg       0.86      0.80      0.79     35861\n",
            "weighted avg       0.86      0.80      0.79     35861\n",
            "\n"
          ]
        }
      ],
      "source": [
        "import pandas as pd\n",
        "import seaborn as sns\n",
        "import matplotlib.pyplot as plt\n",
        "from sklearn.metrics import confusion_matrix, classification_report\n",
        "\n",
        "def print_confusion_matrix(y_true, y_pred, report=True):\n",
        "    labels = sorted(list(set(y_true)))\n",
        "    cmx_data = confusion_matrix(y_true, y_pred, labels=labels)\n",
        "\n",
        "    df_cmx = pd.DataFrame(cmx_data, index=labels, columns=labels)\n",
        "\n",
        "    fig, ax = plt.subplots(figsize=(7, 6))\n",
        "    sns.heatmap(df_cmx, annot=True, fmt='g' ,square=False)\n",
        "    ax.set_ylim(len(set(y_true)), 0)\n",
        "    plt.show()\n",
        "\n",
        "    if report:\n",
        "        print('Classification Report')\n",
        "        print(classification_report(y_test, y_pred))\n",
        "\n",
        "Y_pred = model.predict(X_test)\n",
        "y_pred = np.argmax(Y_pred, axis=1)\n",
        "\n",
        "print_confusion_matrix(y_test, y_pred)"
      ]
    },
    {
      "cell_type": "code",
      "execution_count": null,
      "metadata": {
        "id": "HUqB0YRJSU1Y"
      },
      "outputs": [],
      "source": [
        "# Save as a model dedicated to inference\n",
        "model.save(model_save_path, include_optimizer=False)"
      ]
    },
    {
      "cell_type": "code",
      "execution_count": null,
      "metadata": {
        "colab": {
          "base_uri": "https://localhost:8080/"
        },
        "id": "7-f3teckSWUZ",
        "outputId": "16e1d680-3583-4ae0-a4a9-41287cd7892e"
      },
      "outputs": [
        {
          "name": "stdout",
          "output_type": "stream",
          "text": [
            "Saved artifact at '/tmp/tmphzyqbae9'. The following endpoints are available:\n",
            "\n",
            "* Endpoint 'serve'\n",
            "  args_0 (POSITIONAL_ONLY): TensorSpec(shape=(None, 42), dtype=tf.float32, name='input_layer_15')\n",
            "Output Type:\n",
            "  TensorSpec(shape=(None, 29), dtype=tf.float32, name=None)\n",
            "Captures:\n",
            "  140156657850064: TensorSpec(shape=(), dtype=tf.resource, name=None)\n",
            "  140156657845456: TensorSpec(shape=(), dtype=tf.resource, name=None)\n",
            "  140156657859472: TensorSpec(shape=(), dtype=tf.resource, name=None)\n",
            "  140156657848720: TensorSpec(shape=(), dtype=tf.resource, name=None)\n",
            "  140156657859088: TensorSpec(shape=(), dtype=tf.resource, name=None)\n",
            "  140154517628944: TensorSpec(shape=(), dtype=tf.resource, name=None)\n",
            "  140154517628368: TensorSpec(shape=(), dtype=tf.resource, name=None)\n",
            "  140154517628560: TensorSpec(shape=(), dtype=tf.resource, name=None)\n"
          ]
        },
        {
          "data": {
            "text/plain": [
              "25640"
            ]
          },
          "execution_count": 196,
          "metadata": {},
          "output_type": "execute_result"
        }
      ],
      "source": [
        "# # Transform model (quantization)\n",
        "\n",
        "# converter = tf.lite.TFLiteConverter.from_keras_model(model)\n",
        "# converter.optimizations = [tf.lite.Optimize.DEFAULT]\n",
        "# tflite_quantized_model = converter.convert()\n",
        "\n",
        "# open(tflite_save_path, 'wb').write(tflite_quantized_model)"
      ]
    },
    {
      "cell_type": "code",
      "execution_count": null,
      "metadata": {
        "colab": {
          "base_uri": "https://localhost:8080/"
        },
        "id": "lL2bNGaFkgoI",
        "outputId": "27b38566-9625-475a-a4d1-12f2285e29df"
      },
      "outputs": [
        {
          "name": "stdout",
          "output_type": "stream",
          "text": [
            "Saved artifact at '/tmp/tmpxclxqlnx'. The following endpoints are available:\n",
            "\n",
            "* Endpoint 'serve'\n",
            "  args_0 (POSITIONAL_ONLY): TensorSpec(shape=(None, 42), dtype=tf.float32, name='input_layer_15')\n",
            "Output Type:\n",
            "  TensorSpec(shape=(None, 29), dtype=tf.float32, name=None)\n",
            "Captures:\n",
            "  140156657850064: TensorSpec(shape=(), dtype=tf.resource, name=None)\n",
            "  140156657845456: TensorSpec(shape=(), dtype=tf.resource, name=None)\n",
            "  140156657859472: TensorSpec(shape=(), dtype=tf.resource, name=None)\n",
            "  140156657848720: TensorSpec(shape=(), dtype=tf.resource, name=None)\n",
            "  140156657859088: TensorSpec(shape=(), dtype=tf.resource, name=None)\n",
            "  140154517628944: TensorSpec(shape=(), dtype=tf.resource, name=None)\n",
            "  140154517628368: TensorSpec(shape=(), dtype=tf.resource, name=None)\n",
            "  140154517628560: TensorSpec(shape=(), dtype=tf.resource, name=None)\n"
          ]
        },
        {
          "data": {
            "text/plain": [
              "69708"
            ]
          },
          "execution_count": 203,
          "metadata": {},
          "output_type": "execute_result"
        }
      ],
      "source": [
        "converter = tf.lite.TFLiteConverter.from_keras_model(model)\n",
        "converter.optimizations = []  # Không dùng quantization\n",
        "tflite_model = converter.convert()\n",
        "\n",
        "open(tflite_save_path, 'wb').write(tflite_model)\n"
      ]
    },
    {
      "cell_type": "code",
      "execution_count": null,
      "metadata": {
        "colab": {
          "base_uri": "https://localhost:8080/"
        },
        "id": "qlu9ng2ZSYDW",
        "outputId": "92fb1d39-154b-494a-ffb7-9e92b1588a06"
      },
      "outputs": [
        {
          "name": "stderr",
          "output_type": "stream",
          "text": [
            "/usr/local/lib/python3.11/dist-packages/tensorflow/lite/python/interpreter.py:457: UserWarning:     Warning: tf.lite.Interpreter is deprecated and is scheduled for deletion in\n",
            "    TF 2.20. Please use the LiteRT interpreter from the ai_edge_litert package.\n",
            "    See the [migration guide](https://ai.google.dev/edge/litert/migration)\n",
            "    for details.\n",
            "    \n",
            "  warnings.warn(_INTERPRETER_DELETION_WARNING)\n"
          ]
        }
      ],
      "source": [
        "interpreter = tf.lite.Interpreter(model_path=tflite_save_path)\n",
        "interpreter.allocate_tensors()"
      ]
    },
    {
      "cell_type": "code",
      "execution_count": null,
      "metadata": {
        "id": "ZpS5DS6mSZQb"
      },
      "outputs": [],
      "source": [
        "# Get I / O tensor\n",
        "input_details = interpreter.get_input_details()\n",
        "output_details = interpreter.get_output_details()"
      ]
    },
    {
      "cell_type": "code",
      "execution_count": null,
      "metadata": {
        "id": "z5QJg8IiSapd"
      },
      "outputs": [],
      "source": [
        "interpreter.set_tensor(input_details[0]['index'], np.array([X_test[0]]))"
      ]
    },
    {
      "cell_type": "code",
      "execution_count": null,
      "metadata": {
        "colab": {
          "base_uri": "https://localhost:8080/"
        },
        "id": "Vle-RDwqScML",
        "outputId": "ebbcac6f-b898-45ca-9fdf-3cb8e616b66f"
      },
      "outputs": [
        {
          "name": "stdout",
          "output_type": "stream",
          "text": [
            "CPU times: user 44 µs, sys: 0 ns, total: 44 µs\n",
            "Wall time: 63.7 µs\n"
          ]
        }
      ],
      "source": [
        "%%time\n",
        "# Inference implementation\n",
        "interpreter.invoke()\n",
        "tflite_results = interpreter.get_tensor(output_details[0]['index'])"
      ]
    },
    {
      "cell_type": "code",
      "execution_count": null,
      "metadata": {
        "colab": {
          "base_uri": "https://localhost:8080/"
        },
        "id": "A5m3mifCSd3O",
        "outputId": "06536bdd-9507-4a03-dddd-cea27b6cb43e"
      },
      "outputs": [
        {
          "name": "stdout",
          "output_type": "stream",
          "text": [
            "[1.3822537e-03 2.5253394e-07 1.8295887e-06 1.0428054e-04 5.6303008e-03\n",
            " 5.2618057e-06 2.5418858e-05 1.7512820e-06 3.5187624e-02 3.9608506e-04\n",
            " 2.4739007e-05 2.2375996e-05 1.0644612e-03 6.1871679e-03 2.1284493e-04\n",
            " 3.0559999e-08 7.8106597e-09 9.2581072e-04 8.0762029e-02 7.5576277e-03\n",
            " 7.4591568e-05 2.5569415e-08 5.2932524e-08 8.5692257e-01 1.5624177e-04\n",
            " 2.8530620e-03 2.2759210e-07 0.0000000e+00 5.0111732e-04]\n",
            "23\n"
          ]
        }
      ],
      "source": [
        "print(np.squeeze(tflite_results))\n",
        "print(np.argmax(np.squeeze(tflite_results)))"
      ]
    }
  ],
  "metadata": {
    "accelerator": "GPU",
    "colab": {
      "gpuType": "T4",
      "provenance": []
    },
    "kernelspec": {
      "display_name": "Python 3",
      "name": "python3"
    },
    "language_info": {
      "name": "python"
    }
  },
  "nbformat": 4,
  "nbformat_minor": 0
}
